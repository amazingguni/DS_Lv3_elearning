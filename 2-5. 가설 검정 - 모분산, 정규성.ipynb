{
 "cells": [
  {
   "cell_type": "code",
   "execution_count": 1,
   "id": "dca8ccfd",
   "metadata": {},
   "outputs": [
    {
     "name": "stdout",
     "output_type": "stream",
     "text": [
      "pandas 0.25.1\n",
      "numpy 1.18.5\n",
      "scipy 1.5.2\n",
      "matplotlib 3.5.3\n",
      "seaborn 0.12.2\n"
     ]
    }
   ],
   "source": [
    "import numpy as np\n",
    "import pandas as pd\n",
    "import scipy\n",
    "\n",
    "import matplotlib as mpl\n",
    "import matplotlib.pyplot as plt\n",
    "import seaborn as  sns\n",
    "\n",
    "for i in [pd, np, scipy, mpl, sns]:\n",
    "    print(i.__name__, i.__version__)"
   ]
  },
  {
   "cell_type": "markdown",
   "id": "f52bdfd5",
   "metadata": {},
   "source": [
    "# 2-5-1 가설 검정 - 모분산"
   ]
  },
  {
   "cell_type": "code",
   "execution_count": 2,
   "id": "0edb8506",
   "metadata": {},
   "outputs": [],
   "source": [
    "from scipy.stats import chi2, f, expon, norm"
   ]
  },
  {
   "cell_type": "markdown",
   "id": "f0bf487b",
   "metadata": {},
   "source": [
    "## 1. 단일 모집단 분산 검정\n",
    "\n",
    "모집단의 분산($\\sigma^2$)에 대한 검정입니다.\n",
    "\n",
    "$H_0: \\sigma^2 = \\sigma^2_0$\n",
    "\n",
    "$H_1:$\n",
    "\n",
    "|대립 가설|검정 종류|\n",
    "|---|---|\n",
    "|$$H_1: \\sigma^2 < \\sigma^2_0$$|좌측 꼬리(left)|\n",
    "|$$H_1: \\sigma^2 > \\sigma^2_0$$|우측 꼬리(right)|\n",
    "|$$H_1: \\sigma^2 \\ne \\sigma^2_0$$|양쪽 꼬리(two-sided)|\n",
    "\n",
    "\n",
    "모분산과 표본분산이 아래와 같은 성질이 있음을 이용합니다.\n",
    "\n",
    "$(n-1)\\frac{S^2}{\\sigma^2} \\sim \\chi^2_{n-1}$\n",
    "\n",
    "**가정**\n",
    "\n",
    "모집단은 정규 분포를 따릅니다.\n",
    "\n",
    "표본은 서로 독립입니다.\n",
    "\n",
    "$H_0: \\frac{\\sigma^2}{\\sigma^2_0} = 1$\n",
    "\n",
    "|대립 가설|검정 종류|\n",
    "|---|---|\n",
    "|$$H_1: \\frac{\\sigma^2}{\\sigma^2_0} < 1$$|좌측 꼬리(left)|\n",
    "|$$H_1: \\frac{\\sigma^2}{\\sigma^2_0} > 1$$|우측 꼬리(right)|\n",
    "|$$H_1: \\frac{\\sigma^2}{\\sigma^2_0} \\ne 1$$|양쪽 꼬리(two-sided)|\n",
    "\n",
    "    ※ 카이제곱분포는 비대칭 분포입니다.\n",
    "       따라서 양측 검정할 때에 pvalue는 어림수(좌측과 우측 확률 중 작은(0.5 이하)×2)가 됩니다.\n",
    "\n",
    "**증거의 확률 분포 및 통계량**\n",
    "\n",
    "$H_0$ 가 맞다면, \n",
    "\n",
    "> $\\sigma^2=\\sigma_0^2$\n",
    "\n",
    "확률 분포와 검정 통계량\n",
    "\n",
    "> $X^2=(n-1)\\frac{S_0^2}{\\sigma_0^2} \\sim \\chi^2(n-1)$, n: 표본수\n"
   ]
  },
  {
   "cell_type": "markdown",
   "id": "0e424551",
   "metadata": {},
   "source": [
    "**[Ex)]**\n",
    "\n",
    "<div style=\"border: 1px solid #ddd; padding: 12px; margin-top: 10px\">\n",
    "\n",
    "레이저를 이용한 거리 계산기를 개발 중에 있습니다. \n",
    "\n",
    "기존에 거리 계산기의 품질 합격에 대한 기준은 100m 거리에서 거리를 재었을 때, \n",
    "\n",
    "유의 수준 5%로 거리의 표준편차가 0.25m 이내여야 통과가 됩니다. \n",
    "  \n",
    "모의로 100m에서 거리를 측정 했을 때의 실험 결과가 아래와 같습니다. \n",
    "\n",
    "100m에서 지점에서 측정된 거리는 정규 분포를 따른 다고 가정합니다. 이 때, 통과 여부를 판단해 봅니다.\n",
    "\n",
    "```\n",
    "99.674, 100.299, 100.085, 99.548, 99.826, 100.495, 99.272, 99.871, 100.380, 99.740, \n",
    "99.796, 99.972, 100.447, 99.808, 99.867, 99.870, 100.662, 100.656, 100.301, 100.116, \n",
    "100.221, 100.447, 99.719, 100.353, 99.624, 99.809, 100.272, 99.571, 99.958, 99.741\n",
    "```\n",
    "    \n",
    "</div>"
   ]
  },
  {
   "cell_type": "markdown",
   "id": "d68bf5a4",
   "metadata": {},
   "source": [
    "$H_0: \\sigma = 0.25$\n",
    "\n",
    "$H_1: \\sigma < 0.25$\n",
    "    \n",
    "$X^2=(n-1)\\frac{S_0^2}{0.25^2} \\sim \\chi^2(n-1)$\n",
    "\n",
    "**좌측 검정** 입니다."
   ]
  },
  {
   "cell_type": "code",
   "execution_count": 3,
   "id": "0f61ee4b",
   "metadata": {},
   "outputs": [
    {
     "name": "stdout",
     "output_type": "stream",
     "text": [
      "검정통계량(Chi2): 58.864714666667, pvalue: 0.9991467927097515\n"
     ]
    }
   ],
   "source": [
    "X = [\n",
    "    99.674, 100.299, 100.085, 99.548, 99.826, 100.495, 99.272, 99.871, 100.380, 99.740, \n",
    "    99.796, 99.972, 100.447, 99.808, 99.867, 99.870, 100.662, 100.656, 100.301, 100.116, \n",
    "    100.221, 100.447, 99.719, 100.353, 99.624, 99.809, 100.272, 99.571, 99.958, 99.741\n",
    "]\n",
    "S_sq = np.var(X, ddof=1)\n",
    "n = len(X)\n",
    "Chi2 = (n - 1) * S_sq / (0.25 ** 2)\n",
    "print(\"검정통계량(Chi2): {}, pvalue: {}\".format(Chi2, chi2.cdf(Chi2, df= n -1)))"
   ]
  },
  {
   "cell_type": "code",
   "execution_count": 4,
   "id": "6340309d",
   "metadata": {},
   "outputs": [
    {
     "data": {
      "image/png": "[encoded data removed]",
      "text/plain": [
       "<Figure size 600x400 with 1 Axes>"
      ]
     },
     "metadata": {},
     "output_type": "display_data"
    }
   ],
   "source": [
    "plt.figure(figsize=(6, 4))\n",
    "plt.plot(np.linspace(1, 110, 100), chi2.pdf(np.linspace(1, 110, 100), df=n-1))\n",
    "plt.axvline(Chi2, color='red', linestyle='--')\n",
    "plt.text(Chi2, 0.01, str(Chi2)[:6])\n",
    "\n",
    "plt.fill_between(np.linspace(0, Chi2, 100), np.zeros(shape=100),\n",
    "                chi2.pdf(np.linspace(0, Chi2, 100), df=n-1), color='orange')\n",
    "plt.show()"
   ]
  },
  {
   "cell_type": "code",
   "execution_count": null,
   "id": "e7b4f009",
   "metadata": {},
   "outputs": [],
   "source": []
  },
  {
   "cell_type": "markdown",
   "id": "85500b8e",
   "metadata": {},
   "source": [
    "## 두 개의 모집단의 분산 검정\n",
    "\n",
    "두 개의 모집단의 분산($\\sigma^2_0$), 분산($\\sigma^2_1$)에 대한 검정입니다.\n",
    "\n",
    "$H_0: \\sigma^2_1 = \\sigma^2_2$\n",
    "\n",
    "$H_1:$\n",
    "\n",
    "|대립 가설|검정 종류|\n",
    "|---|---|\n",
    "|$$H_1: \\sigma^2_1 < \\sigma^2_2$$|좌측 꼬리(left)|\n",
    "|$$H_1: \\sigma^2_1 > \\sigma^2_2$$|우측 꼬리(right)|\n",
    "|$$H_1: \\sigma^2_1 \\ne \\sigma^2_2$$|양쪽 꼬리(two-sided)|"
   ]
  },
  {
   "cell_type": "code",
   "execution_count": null,
   "id": "cab96c44",
   "metadata": {},
   "outputs": [],
   "source": []
  },
  {
   "cell_type": "markdown",
   "id": "f6170cf5",
   "metadata": {},
   "source": [
    "### F 검정 (F-test)\n",
    "\n",
    "**가정**\n",
    "\n",
    "두 개의 모집단은 정규 분포를 따릅니다.\n",
    "\n",
    "각 표본들은 서로 독립입니다.\n",
    "\n",
    "\n",
    "$H_0: \\frac{\\sigma^2_1}{\\sigma^2_2} = 1$\n",
    "\n",
    "$H_1:$\n",
    "\n",
    "|대립 가설|검정 종류|\n",
    "|---|---|\n",
    "|$$H_1: \\frac{\\sigma^2_1}{\\sigma^2_2} < 1$$|좌측 꼬리(left)|\n",
    "|$$H_1: \\frac{\\sigma^2_1}{\\sigma^2_2} > 1$$|우측 꼬리(right)|\n",
    "|$$H_1: \\sigma^2_1 \\ne \\sigma^2_2$$|양쪽 꼬리(two-sided)|\n",
    "\n",
    "    ※ F분포는 비대칭 분포입니다.\n",
    "       따라서 양측 검정할 때에 pvalue는 어림수(좌측과 우측 확률 중 작은(0.5 이하)×2)가 됩니다.\n",
    "\n",
    "**증거의 확률 분포 및 통계량**\n",
    "\n",
    "$H_0$ 가 맞다면, \n",
    "\n",
    "> $\\sigma_1=\\sigma_2$가 됩니다.\n",
    "\n",
    "확률 분포와 검정 통계량\n",
    "\n",
    "> $F=\\frac{S_1^2}{S_2^2} \\sim F(n_1-1, n_2-1)$, n: 표본수\n",
    "\n",
    "**유도 과정**\n",
    "\n",
    "$(n_1-1)\\frac{S_1^2}{\\sigma_1^2} \\sim \\chi^2(n_1-1)$\n",
    "\n",
    "$(n_2-1)\\frac{S_2^2}{\\sigma_2^2} \\sim \\chi^2(n_2-1)$\n",
    "\n",
    "$\\frac{\\frac{S_1^2}{\\sigma_1^2}}{\\frac{S_2^2}{\\sigma_2^2}} \\sim \\frac{\\chi^2(n_1-1)/(n_1-1)}{\\chi^2(n_2-1)/(n_2-1)}$\n",
    "\n",
    "$\\frac{S_1^2}{S_2^2} \\sim F(n_1-1, n_2-1)$\n"
   ]
  },
  {
   "cell_type": "markdown",
   "id": "e6ae0f7e",
   "metadata": {},
   "source": [
    "**[Ex.2]**\n",
    "\n",
    "<div style=\"border: 1px solid #ddd; padding: 12px; margin-top: 10px\">\n",
    "\n",
    "신형 거리 계산기를 개발 중에 있습니다. \n",
    "\n",
    "기존에 거리 계산기 보다 거리를 재었을 때보다 분산이 낮게 만드는 것을 목표로 하고 있습니다.\n",
    "\n",
    "신형 거리 계산기의 개발의 성공 기준은 100m 거리에서 거리를 재었을 때, \n",
    "\n",
    "모의로 100m에서 거리를 측정 했을 때의 실험 결과가 아래와 같습니다. \n",
    "\n",
    "유의 수준을 5%로 했을 때 기존 거리 계산기 보다 분산이 낮다고 판단할 수 있는지 확인합니다.\n",
    "\n",
    "기존 거리 계산기 기록\n",
    "```\n",
    "99.674, 100.299, 100.085, 99.548, 99.826, 100.495, 99.272, 99.871, 100.380, 99.740, \n",
    "99.796, 99.972, 100.447, 99.808, 99.867, 99.870, 100.662, 100.656, 100.301, 100.116, \n",
    "100.221, 100.447, 99.719, 100.353, 99.624, 99.809, 100.272, 99.571, 99.958, 99.741\n",
    "```\n",
    "\n",
    "신형 거리 계산기 기록\n",
    "\n",
    "```\n",
    "99.696, 100.279, 100.079, 99.578, 99.838, 100.462, 99.321, 99.880, 100.354, 99.757, \n",
    "99.810, 99.973, 100.418, 99.821, 99.876, 99.878, 100.618, 100.612, 100.281, 100.108, \n",
    "100.206, 100.417, 99.738, 100.329, 99.649, 99.821, 100.254, 99.600, 99.961, 99.759, \n",
    "99.928, 99.216, 99.504, 99.804, 100.260\n",
    "```\n",
    "    \n",
    "</div>"
   ]
  },
  {
   "cell_type": "markdown",
   "id": "ca1edecb",
   "metadata": {},
   "source": [
    "$H_0: \\frac{\\sigma^2_1}{\\sigma^2_2} = 1$\n",
    "\n",
    "$H_1: \\frac{\\sigma^2_1}{\\sigma^2_2} > 1$\n",
    "    \n",
    "$F=\\frac{S_1^2}{S_2^2} \\sim F(n_1-1, n_2-1)$\n",
    "\n",
    "**우측 검정** 입니다."
   ]
  },
  {
   "cell_type": "code",
   "execution_count": 5,
   "id": "f0617a4a",
   "metadata": {},
   "outputs": [
    {
     "name": "stdout",
     "output_type": "stream",
     "text": [
      "검정통계량(F): 1.0379777993154704, pvalue: 0.45501804967354664\n"
     ]
    },
    {
     "data": {
      "text/plain": [
       "<Figure size 600x400 with 0 Axes>"
      ]
     },
     "metadata": {},
     "output_type": "display_data"
    }
   ],
   "source": [
    "plt.figure(figsize=(6, 4))\n",
    "\n",
    "X1 = [\n",
    "    99.674, 100.299, 100.085, 99.548, 99.826, 100.495, 99.272, 99.871, 100.380, 99.740, \n",
    "    99.796, 99.972, 100.447, 99.808, 99.867, 99.870, 100.662, 100.656, 100.301, 100.116, \n",
    "    100.221, 100.447, 99.719, 100.353, 99.624, 99.809, 100.272, 99.571, 99.958, 99.741\n",
    "]\n",
    "\n",
    "X2 = [\n",
    "    99.696, 100.279, 100.079, 99.578, 99.838, 100.462, 99.321, 99.880, 100.354, 99.757, \n",
    "    99.810, 99.973, 100.418, 99.821, 99.876, 99.878, 100.618, 100.612, 100.281, 100.108, \n",
    "    100.206, 100.417, 99.738, 100.329, 99.649, 99.821, 100.254, 99.600, 99.961, 99.759, \n",
    "    99.928, 99.216, 99.504, 99.804, 100.260\n",
    "]\n",
    "\n",
    "S1_sq = np.var(X1, ddof=1)\n",
    "S2_sq = np.var(X2, ddof=1)\n",
    "\n",
    "n1 = len(X1)\n",
    "n2 = len(X2)\n",
    "\n",
    "F = S1_sq / S2_sq\n",
    "print(\"검정통계량(F): {}, pvalue: {}\".format(F, f.sf(F, n1 - 1, n2 - 1)))"
   ]
  },
  {
   "cell_type": "code",
   "execution_count": 6,
   "id": "12f70786",
   "metadata": {},
   "outputs": [
    {
     "data": {
      "image/png": "[encoded data removed]",
      "text/plain": [
       "<Figure size 640x480 with 1 Axes>"
      ]
     },
     "metadata": {},
     "output_type": "display_data"
    }
   ],
   "source": [
    "plt.plot(np.linspace(0, 3, 100), f.pdf(np.linspace(0, 3, 100), n1 - 1, n2 - 1))\n",
    "plt.axvline(F, color='red', linestyle='--')\n",
    "plt.text(F, 0.01, str(F)[:6])\n",
    "\n",
    "plt.fill_between(np.linspace(F, 3, 100), np.zeros(shape=100),\n",
    "                f.pdf(np.linspace(F, 3, 100), n1-1, n2-1), color='orange')\n",
    "plt.show()"
   ]
  },
  {
   "cell_type": "markdown",
   "id": "0d8c4372",
   "metadata": {},
   "source": [
    "## 2. 다수의 모집단의 등분산 검정\n",
    "\n",
    "$H_0: \\sigma^2_0 = \\sigma^2_1 = ... = \\sigma^2_{k}$\n",
    "\n",
    "$H_1$: 모집단 간 분산에 차이가 존재합니다."
   ]
  },
  {
   "cell_type": "markdown",
   "id": "fd209b95",
   "metadata": {},
   "source": [
    "### Bartlett 검정\n",
    "\n",
    "**가정**\n",
    "\n",
    "모집단들은 정규분포를 따릅니다.\n",
    "\n",
    "**증거의 확률 분포 및 통계량**\n",
    "\n",
    "$H_0$가 맞다면,\n",
    "\n",
    "아래 B는 근사적으로 카이제곱분포를 따릅니다. \n",
    "\n",
    "우측 검정입니다.\n",
    "\n",
    "$B = \\frac{(N - k) \\ln(S_p^2) - \\sum_{i=1}^k(n_i - 1)ln(S_i^2)}{1 + \\frac{1}{3(k-1)} \\left(\\sum_{i=1}^{k}\\left(\\frac{1}{n_i-1}\\right) - \\frac{1}{N-k}\\right)} \\sim \\chi^2(k - 1)$ \n",
    "\n",
    "- k: 모집단의 수 \n",
    "- N: 전체표본의 수\n"
   ]
  },
  {
   "cell_type": "markdown",
   "id": "b3f8de03",
   "metadata": {},
   "source": [
    "**[Ex.3]**\n",
    "\n",
    "<div style=\"border: 1px solid #ddd; padding: 12px; margin-top: 10px\">\n",
    "\n",
    "다음 거리 계산기 모집단이 등분산인지 조사해보세요. 세 모집단은 모두 정규 분포를 따릅니다.\n",
    "\n",
    "기존 거리 계산기 기록\n",
    "```\n",
    "99.674, 100.299, 100.085, 99.548, 99.826, 100.495, 99.272, 99.871, 100.380, 99.740, \n",
    "99.796, 99.972, 100.447, 99.808, 99.867, 99.870, 100.662, 100.656, 100.301, 100.116, \n",
    "100.221, 100.447, 99.719, 100.353, 99.624, 99.809, 100.272, 99.571, 99.958, 99.741\n",
    "```\n",
    "\n",
    "신형 거리 계산기 기록\n",
    "```\n",
    "99.696, 100.279, 100.079, 99.578, 99.838, 100.462, 99.321, 99.880, 100.354, 99.757, \n",
    "99.810, 99.973, 100.418, 99.821, 99.876, 99.878, 100.618, 100.612, 100.281, 100.108, \n",
    "100.206, 100.417, 99.738, 100.329, 99.649, 99.821, 100.254, 99.600, 99.961, 99.759, \n",
    "99.928, 99.216, 99.504, 99.804, 100.260\n",
    "```\n",
    "\n",
    "경쟁사 거리 계산기 기록\n",
    "```\n",
    "99.653, 100.319, 100.091, 99.518, 99.815, 100.528, 99.223, 99.863, 100.405, 99.723, \n",
    "99.783, 99.970, 100.477, 99.796, 99.858, 99.861, 100.706, 100.700, 100.321, 100.124, \n",
    "100.236, 100.477, 99.701, 100.376, 99.599\n",
    "```\n",
    "</div>"
   ]
  },
  {
   "cell_type": "code",
   "execution_count": 7,
   "id": "9a2793e8",
   "metadata": {},
   "outputs": [
    {
     "data": {
      "text/html": [
       "<div>\n",
       "<style scoped>\n",
       "    .dataframe tbody tr th:only-of-type {\n",
       "        vertical-align: middle;\n",
       "    }\n",
       "\n",
       "    .dataframe tbody tr th {\n",
       "        vertical-align: top;\n",
       "    }\n",
       "\n",
       "    .dataframe thead th {\n",
       "        text-align: right;\n",
       "    }\n",
       "</style>\n",
       "<table border=\"1\" class=\"dataframe\">\n",
       "  <thead>\n",
       "    <tr style=\"text-align: right;\">\n",
       "      <th></th>\n",
       "      <th>m</th>\n",
       "      <th>model</th>\n",
       "    </tr>\n",
       "  </thead>\n",
       "  <tbody>\n",
       "    <tr>\n",
       "      <td>0</td>\n",
       "      <td>99.674</td>\n",
       "      <td>A</td>\n",
       "    </tr>\n",
       "    <tr>\n",
       "      <td>1</td>\n",
       "      <td>100.299</td>\n",
       "      <td>A</td>\n",
       "    </tr>\n",
       "    <tr>\n",
       "      <td>2</td>\n",
       "      <td>100.085</td>\n",
       "      <td>A</td>\n",
       "    </tr>\n",
       "    <tr>\n",
       "      <td>3</td>\n",
       "      <td>99.548</td>\n",
       "      <td>A</td>\n",
       "    </tr>\n",
       "    <tr>\n",
       "      <td>4</td>\n",
       "      <td>99.826</td>\n",
       "      <td>A</td>\n",
       "    </tr>\n",
       "    <tr>\n",
       "      <td>...</td>\n",
       "      <td>...</td>\n",
       "      <td>...</td>\n",
       "    </tr>\n",
       "    <tr>\n",
       "      <td>20</td>\n",
       "      <td>100.236</td>\n",
       "      <td>C</td>\n",
       "    </tr>\n",
       "    <tr>\n",
       "      <td>21</td>\n",
       "      <td>100.477</td>\n",
       "      <td>C</td>\n",
       "    </tr>\n",
       "    <tr>\n",
       "      <td>22</td>\n",
       "      <td>99.701</td>\n",
       "      <td>C</td>\n",
       "    </tr>\n",
       "    <tr>\n",
       "      <td>23</td>\n",
       "      <td>100.376</td>\n",
       "      <td>C</td>\n",
       "    </tr>\n",
       "    <tr>\n",
       "      <td>24</td>\n",
       "      <td>99.599</td>\n",
       "      <td>C</td>\n",
       "    </tr>\n",
       "  </tbody>\n",
       "</table>\n",
       "<p>90 rows × 2 columns</p>\n",
       "</div>"
      ],
      "text/plain": [
       "          m model\n",
       "0    99.674     A\n",
       "1   100.299     A\n",
       "2   100.085     A\n",
       "3    99.548     A\n",
       "4    99.826     A\n",
       "..      ...   ...\n",
       "20  100.236     C\n",
       "21  100.477     C\n",
       "22   99.701     C\n",
       "23  100.376     C\n",
       "24   99.599     C\n",
       "\n",
       "[90 rows x 2 columns]"
      ]
     },
     "execution_count": 7,
     "metadata": {},
     "output_type": "execute_result"
    }
   ],
   "source": [
    "s_A = pd.Series(\n",
    "    [99.674, 100.299, 100.085, 99.548, 99.826, 100.495, 99.272, 99.871, 100.380, 99.740, \n",
    "    99.796, 99.972, 100.447, 99.808, 99.867, 99.870, 100.662, 100.656, 100.301, 100.116, \n",
    "    100.221, 100.447, 99.719, 100.353, 99.624, 99.809, 100.272, 99.571, 99.958, 99.741], name='m'\n",
    ")\n",
    "s_B = pd.Series(\n",
    "    [99.696, 100.279, 100.079, 99.578, 99.838, 100.462, 99.321, 99.880, 100.354, 99.757, \n",
    "    99.810, 99.973, 100.418, 99.821, 99.876, 99.878, 100.618, 100.612, 100.281, 100.108, \n",
    "    100.206, 100.417, 99.738, 100.329, 99.649, 99.821, 100.254, 99.600, 99.961, 99.759, \n",
    "    99.928, 99.216, 99.504, 99.804, 100.260], name='m'\n",
    ")\n",
    "s_C = pd.Series(\n",
    "    [99.653, 100.319, 100.091, 99.518, 99.815, 100.528, 99.223, 99.863, 100.405, 99.723, \n",
    "    99.783, 99.970, 100.477, 99.796, 99.858, 99.861, 100.706, 100.700, 100.321, 100.124, \n",
    "    100.236, 100.477, 99.701, 100.376, 99.599], name='m'\n",
    ")\n",
    "\n",
    "df_m = pd.concat(\n",
    "    [a.to_frame().assign(model=b) for a, b in zip([s_A, s_B, s_C], ['A', 'B', 'C'])]\n",
    ")\n",
    "df_m"
   ]
  },
  {
   "cell_type": "markdown",
   "id": "6cd89899",
   "metadata": {},
   "source": [
    "$B = \\frac{(N - k) \\ln(S_p^2) - \\sum_{i=1}^k(n_i - 1)ln(S_i^2)}{1 + \\frac{1}{3(k-1)} \\left(\\sum_{i=1}^{k}\\left(\\frac{1}{n_i-1}\\right) - \\frac{1}{N-k}\\right)} \\sim \\chi^2(k - 1)$ "
   ]
  },
  {
   "cell_type": "code",
   "execution_count": 8,
   "id": "ea4b60cc",
   "metadata": {},
   "outputs": [
    {
     "data": {
      "text/html": [
       "<div>\n",
       "<style scoped>\n",
       "    .dataframe tbody tr th:only-of-type {\n",
       "        vertical-align: middle;\n",
       "    }\n",
       "\n",
       "    .dataframe tbody tr th {\n",
       "        vertical-align: top;\n",
       "    }\n",
       "\n",
       "    .dataframe thead th {\n",
       "        text-align: right;\n",
       "    }\n",
       "</style>\n",
       "<table border=\"1\" class=\"dataframe\">\n",
       "  <thead>\n",
       "    <tr style=\"text-align: right;\">\n",
       "      <th></th>\n",
       "      <th>var</th>\n",
       "      <th>count</th>\n",
       "    </tr>\n",
       "    <tr>\n",
       "      <th>model</th>\n",
       "      <th></th>\n",
       "      <th></th>\n",
       "    </tr>\n",
       "  </thead>\n",
       "  <tbody>\n",
       "    <tr>\n",
       "      <td>A</td>\n",
       "      <td>0.126864</td>\n",
       "      <td>30</td>\n",
       "    </tr>\n",
       "    <tr>\n",
       "      <td>B</td>\n",
       "      <td>0.122222</td>\n",
       "      <td>35</td>\n",
       "    </tr>\n",
       "    <tr>\n",
       "      <td>C</td>\n",
       "      <td>0.155286</td>\n",
       "      <td>25</td>\n",
       "    </tr>\n",
       "  </tbody>\n",
       "</table>\n",
       "</div>"
      ],
      "text/plain": [
       "            var  count\n",
       "model                 \n",
       "A      0.126864     30\n",
       "B      0.122222     35\n",
       "C      0.155286     25"
      ]
     },
     "execution_count": 8,
     "metadata": {},
     "output_type": "execute_result"
    }
   ],
   "source": [
    "df_sp = df_m.groupby('model')['m'].agg(['var', 'count'])\n",
    "df_sp"
   ]
  },
  {
   "cell_type": "code",
   "execution_count": 9,
   "id": "04d936d9",
   "metadata": {},
   "outputs": [
    {
     "name": "stdout",
     "output_type": "stream",
     "text": [
      "검정통계량(B): 0.4463582365057818, pvalue: 0.7999715469550519\n"
     ]
    }
   ],
   "source": [
    "# Pooled Variance를 구합니다.\n",
    "Sp_sq = (df_sp['var'] * (df_sp['count'] - 1)).sum() / (df_sp['count'] - 1).sum()\n",
    "k = 3\n",
    "n = len(df_m)\n",
    "# B의 분모를 구합니다.\n",
    "B_num = (n - k) * np.log(Sp_sq) - (np.log(df_sp['var']) * (df_sp['count']- 1)).sum()\n",
    "# B의 분자를 구합니다.\n",
    "B_denom = 1 + 1 / (3 * (k - 1)) * ((1 / (df_sp['count'] - 1)).sum() - 1 / (n - k))\n",
    "B = B_num / B_denom\n",
    "print(\"검정통계량(B): {}, pvalue: {}\".format(B, chi2.sf(B, k - 1)))"
   ]
  },
  {
   "cell_type": "code",
   "execution_count": 10,
   "id": "79dc44c1",
   "metadata": {},
   "outputs": [
    {
     "data": {
      "text/plain": [
       "BartlettResult(statistic=0.4463582365057818, pvalue=0.7999715469550519)"
      ]
     },
     "execution_count": 10,
     "metadata": {},
     "output_type": "execute_result"
    }
   ],
   "source": [
    "# scipy.stats.bartlett 으로도 구할 수 있습니다.\n",
    "from scipy.stats import bartlett\n",
    "bartlett(s_A, s_B, s_C)"
   ]
  },
  {
   "cell_type": "markdown",
   "id": "11cf873e",
   "metadata": {},
   "source": [
    "# 2-5-2 정규성 검정"
   ]
  },
  {
   "cell_type": "code",
   "execution_count": 11,
   "id": "9d63e62f",
   "metadata": {},
   "outputs": [],
   "source": [
    "# lambda=3인 포아송 분포의 표본을 3개씩 뽑아 평균을 100개 만듭니다.\n",
    "s_mean_3 = [expon.rvs(scale=1/3, size=3).mean() for _ in range(100)]\n",
    "# lambda=3인 포아송 분포의 표본을 30개씩 뽑아 평균을 100개 만듭니다.\n",
    "s_mean_30 = [expon.rvs(scale=1/3, size=30).mean() for _ in range(100)]"
   ]
  },
  {
   "cell_type": "markdown",
   "id": "79952a61",
   "metadata": {},
   "source": [
    "### Q-Q Plot\n",
    "\n",
    "비교할 대상 확률 분포를 정규 분포로하여 Q-Q Plot을 출력하여 판단합니다. \n",
    "\n",
    "Q-Q Plot의 모양이 직선에 가까울 수록 두 확률 변수의 분포가 비슷합니다.\n",
    "  \n",
    "**Q-Q Plot 그리기**\n",
    "\n",
    "<div style=\"border: 0px solid #ddd; padding: 12px; margin-top: 10px\">\n",
    "\n",
    "수열을 정렬합니다.\n",
    "\n",
    "Y좌표: 수열\n",
    "\n",
    "X좌표: \n",
    "\n",
    "> 1. 수열의 값을 백분위수(0~1사이)로 변환하고 (위치 인덱스 / 리스트수)\n",
    ">\n",
    "> 2. 백분위수로 변환된 값을 정규 분포의 확률 변수로 변환합니다.(norm.ppf)\n",
    "  \n",
    "산포도 그래프로 출력합니다.\n",
    "    \n",
    "</div>"
   ]
  },
  {
   "cell_type": "code",
   "execution_count": 12,
   "id": "e425da6f",
   "metadata": {},
   "outputs": [
    {
     "data": {
      "image/png": "[encoded data removed]",
      "text/plain": [
       "<Figure size 1200x400 with 2 Axes>"
      ]
     },
     "metadata": {},
     "output_type": "display_data"
    }
   ],
   "source": [
    "X = np.sort(s_mean_3) # 분위를 구하기 위해 정렬합니다\n",
    "X_ppf = np.arange(0, 100) / 100 # 표본의 등분위(0~1사이)를 구합니다.\n",
    "X_norm_ppf = norm.ppf(X_ppf, loc=np.mean(X), scale=np.std(X))\n",
    "\n",
    "fig, axes = plt.subplots(1, 2, figsize=(12, 4))\n",
    "sns.kdeplot(X, ax=axes[0])\n",
    "# 0분위와 1분위의 정규 분포의 확률 변수는 -∞과 ∞ 이므로 생략합니다.\n",
    "sns.scatterplot(x=X_norm_ppf[1:-1], y=X[1:-1])\n",
    "plt.gca().set_xlabel('Normal theoretical quantiles')\n",
    "plt.gca().set_ylabel('s_mea3')\n",
    "plt.show()"
   ]
  },
  {
   "cell_type": "code",
   "execution_count": 13,
   "id": "4cc5c575",
   "metadata": {},
   "outputs": [
    {
     "data": {
      "image/png": "[encoded data removed]",
      "text/plain": [
       "<Figure size 1200x400 with 2 Axes>"
      ]
     },
     "metadata": {},
     "output_type": "display_data"
    }
   ],
   "source": [
    "X = np.sort(s_mean_30) # 분위를 구하기 위해 정렬합니다\n",
    "X_ppf = np.arange(0, 100) / 100 # 표본의 등분위(0~1사이)를 구합니다.\n",
    "X_norm_ppf = norm.ppf(X_ppf, loc=np.mean(X), scale=np.std(X))\n",
    "\n",
    "fig, axes = plt.subplots(1, 2, figsize=(12, 4))\n",
    "sns.kdeplot(X, ax=axes[0])\n",
    "# 0분위와 1분위의 정규 분포의 확률 변수는 -∞과 ∞ 이므로 생략합니다.\n",
    "sns.scatterplot(x=X_norm_ppf[1:-1], y=X[1:-1])\n",
    "plt.gca().set_xlabel('Normal theoretical quantiles')\n",
    "plt.gca().set_ylabel('s_mea3')\n",
    "plt.show()"
   ]
  },
  {
   "cell_type": "markdown",
   "id": "c0432dda",
   "metadata": {},
   "source": [
    "$H_0$: 모집단은 정규 분포를 따릅니다.\n",
    "\n",
    "$H_1$: 모집단은 정규 분포를 따르지 않습니다."
   ]
  },
  {
   "cell_type": "markdown",
   "id": "978799ba",
   "metadata": {},
   "source": [
    "### Shapiro-Wilks\n",
    "\n",
    "**증거의 확률 분포 및 통계량**\n",
    "\n",
    "$W = \\frac{\\left(\\sum_{i=1}^{n} a_i x_{(i)}\\right)^2}{\\sum_{i=1}^{n} (x_i - \\bar{x})^2}$\n",
    "\n",
    "$x_{(i)}$: i번째로 큰수\n",
    "\n",
    "$(a_1, ..., a_n) = \\frac{m^TV^{-1}}{C}$\n",
    "\n",
    "$C=||V^{-1}m||=\\left(m^TV^{-1}V^{-1}m\\right)$\n",
    "\n",
    "n: 표본수\n",
    "\n",
    "**m과 V의 정체**\n",
    "\n",
    "표본의 통계량(평균, 분산)으로 정규 분포에서 n개씩 표본 수집을 여러 번 수행합니다. \n",
    "\n",
    "각 수행에서 순위가 1, ... , n까지 수들의 평균이 **m** 입니다.\n",
    "\n",
    "그리고 순위가 1, ..., n까지의 수들 간에 공분산 행렬이 **V**입니다.\n",
    "\n",
    "\n",
    "**W**의 분포는 없습니다. 단지 **W**가 클수록 정규 분포에 가깝습니다.\n",
    "\n",
    "pvalue와 임계치는 Monte Carlo Simulation을 통해 구해집니다.\n",
    "\n",
    "중소 규모(보통 2000개 이하)의 표본에 적합합니다."
   ]
  },
  {
   "cell_type": "code",
   "execution_count": 14,
   "id": "0e53c6fc",
   "metadata": {},
   "outputs": [
    {
     "data": {
      "text/plain": [
       "(ShapiroResult(statistic=0.930022656917572, pvalue=4.991512469132431e-05),\n",
       " ShapiroResult(statistic=0.9834848046302795, pvalue=0.2457527220249176))"
      ]
     },
     "execution_count": 14,
     "metadata": {},
     "output_type": "execute_result"
    }
   ],
   "source": [
    "from scipy.stats import shapiro\n",
    "shapiro(s_mean_3), shapiro(s_mean_30)"
   ]
  },
  {
   "cell_type": "markdown",
   "id": "33430d13",
   "metadata": {},
   "source": [
    "### Kolmogorov-Smirnof\n",
    "\n",
    "**증거의 확률 분포 및 통계량**\n",
    "\n",
    "이론적 누적분포함수와 표본의 누적분포를 비교합니다.\n",
    "\n",
    "$D_n = sup_x|F_n(x) - F(x)|$\n",
    "\n",
    "$Fn(x) = \\frac{1}{n}\\sum_{i=1}^{n}{1_{(-\\inf, x]}(X_i)}$, $1_{(-\\inf, x]}(X_i)$:는 $X_i$보다 x가 작거나 같으면 1 아니면 0\n",
    "\n",
    "즉, Fn(x)는 표본에서 x보다 작거나 같은 수의 수를 의미합니다.\n",
    "\n",
    "D_n가 클수록 정규 분포와 거리가 먼 것을 의미합니다."
   ]
  },
  {
   "cell_type": "code",
   "execution_count": 15,
   "id": "80d11da8",
   "metadata": {},
   "outputs": [
    {
     "data": {
      "text/plain": [
       "(KstestResult(statistic=0.0803040882088849, pvalue=0.5133629491462881),\n",
       " KstestResult(statistic=0.074347138369171, pvalue=0.6113090777375279))"
      ]
     },
     "execution_count": 15,
     "metadata": {},
     "output_type": "execute_result"
    }
   ],
   "source": [
    "from scipy.stats import kstest\n",
    "(\n",
    "    kstest(s_mean_3, norm.cdf, args=[np.mean(s_mean_3), np.std(s_mean_3, ddof=1)]), \n",
    "    kstest(s_mean_30, norm.cdf, args=[np.mean(s_mean_30), np.std(s_mean_30, ddof=1)])\n",
    ")"
   ]
  },
  {
   "cell_type": "markdown",
   "id": "b8eef155",
   "metadata": {},
   "source": [
    "### Jaque-Bera\n",
    "\n",
    "왜도(skewness)와 첨도(kurtosis)를  이용하여 정규성 검정을 합니다. \n",
    "\n",
    "검정 통계량은 카이제곱분포에 표본수가 커짐에 따라 점진적으로 수렴합니다.\n",
    "\n",
    "따라서, 표본수가 적으면(2000개 미만) 정확도가 떨어 집니다.\n",
    "\n",
    "**증거의 확률 분포 및 통계량**\n",
    "\n",
    "$JB = \\frac{n}{6} \\left(\\frac{S^2}{6} + \\frac{(K-3)^2}{24}\\right)$\n",
    "\n",
    "S: 첨도, K: 왜도\n",
    "\n",
    "$S = \\frac{\\sum_{i=1}^{n} (x_i - \\bar{x})^3}{n \\cdot s^3}$\n",
    "\n",
    "$K = \\frac{\\sum_{i=1}^{n} (x_i - \\bar{x})^4}{n \\cdot s^4}$"
   ]
  },
  {
   "cell_type": "code",
   "execution_count": 16,
   "id": "987beda8",
   "metadata": {},
   "outputs": [
    {
     "data": {
      "text/plain": [
       "(Jarque_beraResult(statistic=30.90895685867291, pvalue=1.9418035801521683e-07),\n",
       " Jarque_beraResult(statistic=2.074428200903776, pvalue=0.35444074409480175))"
      ]
     },
     "execution_count": 16,
     "metadata": {},
     "output_type": "execute_result"
    }
   ],
   "source": [
    "from scipy.stats import jarque_bera\n",
    "jarque_bera(s_mean_3), jarque_bera(s_mean_30)"
   ]
  },
  {
   "cell_type": "code",
   "execution_count": null,
   "id": "cec1de87",
   "metadata": {},
   "outputs": [],
   "source": []
  }
 ],
 "metadata": {
  "kernelspec": {
   "display_name": "Python 3 (ipykernel)",
   "language": "python",
   "name": "python3"
  },
  "language_info": {
   "codemirror_mode": {
    "name": "ipython",
    "version": 3
   },
   "file_extension": ".py",
   "mimetype": "text/x-python",
   "name": "python",
   "nbconvert_exporter": "python",
   "pygments_lexer": "ipython3",
   "version": "3.7.4"
  }
 },
 "nbformat": 4,
 "nbformat_minor": 5
}
