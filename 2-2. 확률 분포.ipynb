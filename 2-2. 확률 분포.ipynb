{
 "cells": [
  {
   "cell_type": "code",
   "execution_count": 1,
   "id": "bbce8a62",
   "metadata": {},
   "outputs": [
    {
     "name": "stdout",
     "output_type": "stream",
     "text": [
      "pandas 0.25.1\n",
      "numpy 1.18.5\n",
      "scipy 1.5.2\n",
      "matplotlib 3.5.3\n",
      "seaborn 0.12.2\n"
     ]
    }
   ],
   "source": [
    "import pandas as pd\n",
    "import numpy as np\n",
    "import scipy\n",
    "\n",
    "import matplotlib as mpl\n",
    "import matplotlib.pyplot as plt\n",
    "import seaborn as sns\n",
    "\n",
    "for i in [pd, np, scipy, mpl, sns]:\n",
    "    print(i.__name__, i.__version__)"
   ]
  },
  {
   "cell_type": "markdown",
   "id": "a8dca9fb",
   "metadata": {},
   "source": [
    "# 2-2 확률 분포\n",
    "\n",
    "\n",
    "#### 확률 변수\n",
    "\n",
    "- 확률적인 과정의 결과를 수치적으로 표현하기 위한 임의의 수입니다. (일반적으로 대문자로 표기)\n",
    "\n",
    "\n",
    "#### 기대값 E[X]\n",
    "\n",
    "- 확률 변수의 평균적인 예상값으로 중심 경향성을 표현합니다. \n",
    "\n",
    "> $E[X + Y] = E[X] + E[Y]$\n",
    ">\n",
    "> $E[aX] = aE[X]$\n",
    "\n",
    "#### 분산 V(X)\n",
    "\n",
    "- 데이터의 변동 정도를 측정하는 지표로 사용되며, 데이터가 중심(평균)으로 부터 흩어진 정도를 나타내는 지표입니다.\n",
    "\n",
    "> $V(X)= E[(X - E[X])^2]=E[X^2] - E[X]^2$\n",
    ">\n",
    "> $V(X + Y)= V(X) + 2COV(X,Y) + V(Y)$\n",
    "\n",
    "<div style=\"border: 1px solid #ddd; padding: 12px; margin-top: 10px; margin-left: 50px;\">\n",
    "\n",
    "$V(X + Y) = E[(X + Y - E[X + Y])^2] = E[(X - E(X) + Y - E(Y))^2]$\n",
    "\n",
    "$= E[X^2] - E(X)^2 + E[Y^2] - E(Y)^2 + 2E[(X - E[X])(Y - E[Y])] = V(X) + V(Y)+ 2COV(X,Y)$\n",
    "\n",
    "</div>\n",
    "\n",
    "> $V(aX)=a^2V(X)$\n",
    "\n",
    "> $V(-aX)=a^2V(X)$\n",
    "\n",
    "#### 공분산 COV(X, Y)\n",
    "\n",
    "- 두 변수가 함께 변하는 정도를 나타냅니다.\n",
    "\n",
    "> $COV(X, Y)=E[(X - E[X])(Y - E[Y])]=E[XY] - E[X][E[Y]$\n",
    "\n",
    "- 두 변수가 독립이라면, $COV(X,Y) = 0$이 됩니다.\n",
    "\n",
    "> **이 경우**, $V(X + Y) = V(X) + V(Y)$ 가 됩니다.\n",
    "\n",
    "#### 표본평균의 모평균과 모분산\n",
    "\n",
    "- 표본평균은 가설 검정과 신뢰구간등 두루 사용되는 통계량입니다.\n",
    "\n",
    "\n",
    "- 표본평균도 확률 변수입니다. 표본평균의 모평균과 모분산을 대상 확률 변수의 모평균과 모분산에서 유도해 봅니다.\n",
    "\n",
    "<div style=\"border: 1px solid #ddd; padding: 12px; margin-top: 10px\">\n",
    "\n",
    "모평균이 $\\mu$, 모분산이 $\\sigma^2$인 모집단에서 n개의 표본을 추출했습니다.\n",
    "    \n",
    "> $X_1, X_2, X_3, ... X_n$\n",
    "\n",
    "표본평균 $\\bar{X}$는\n",
    "\n",
    "> $\\bar{X}= \\frac{(X_1 + X_2 + ... + X_n)}{n} $\n",
    "\n",
    "입니다.\n",
    "\n",
    "> $E(\\bar{X})= E(\\frac{X_1 + X_2 + ... + X_n}{n}) = \\frac{E(X_1) + E(X_2) + .. E(X_n)}{n} $\n",
    "\n",
    "$X_1, ... X_n$의 모평균이 $\\mu$이므로 $E(X_1), ... E(X_n)$ 모두 $\\mu$ 입니다.\n",
    "\n",
    "> 따라서, $E(\\bar{X}) = \\frac{n\\mu}{n} = \\mu$\n",
    "\n",
    "$V(\\bar{X}) = V(\\frac{X_1 + X_2 + ... + X_n}{n})$ 입니다.\n",
    "    \n",
    "**n개의 표본이 서로 독립이라면,**\n",
    "\n",
    "$X_1, ... X_n$ 간의 공분산은 모두 $COV(X_1, X_2) = 0, ... COV(X_{n-1}, X_n) = 0$ 입니다.\n",
    "\n",
    "> $V(\\bar{X}) = V(\\frac{X_1}{n}) + V(\\frac{X_2}{n}) ... + V(\\frac{X_n}{n})$\n",
    "\n",
    "$X_1, ... X_n$은 모두 분산이 $\\sigma^2$이므로 $V(X_1), ... V(X_n)$ 모두 $\\sigma^2$ 이고, $V(aX) = a^2V(X)$이므로\n",
    "\n",
    "> $V(\\bar{X}) = \\frac{\\sigma^2}{n^2} + \\frac{\\sigma^2}{n^2}... + \\frac{\\sigma^2}{n^2} = \\frac{\\sigma^2}{n}$ 이 됩니다.\n",
    "\n",
    "</div>"
   ]
  },
  {
   "cell_type": "markdown",
   "id": "1fad986e",
   "metadata": {},
   "source": [
    "## 1. 이산형 확률 분포\n",
    "\n",
    "- 이산형(Discrete) 확률 변수가 취하는 값에 대한 확률을 나타내는 분포\n",
    "\n",
    "|분포|확률 변수|매개변수|확률 질량 함수|E(X)|V(X)|\n",
    "|----|:---------|:--------------|:----|---|---|\n",
    "|베르누이(Bernoulii) 분포|베르누이 시행(0 또는 1)의 결과|p: 1이 나올 확률|$p(1)=p$|$p$|$$p\\left(1-p\\right)$$|\n",
    "|이항(Binomial) 분포|연속된 n번의 베르누이 시행에서 n번 중 1이 나온 횟수|p: 1이 나올 확률, n: 총 시행수|$$p(x)={n \\choose x}p^x(1-p)^{n-x}$$|$np$|$np(1-p)$|\n",
    "|푸아송(Poisson) 분포|단위 시간 또는 공간에서 발생하는 사건수|$$\\lambda$$: 단위 시간 또는 공간에서 발생하는 평균 사건수|$$p(x)=\\frac{e^{\\lambda}(\\lambda)^x}{x!}$$|$\\lambda$|$\\lambda$|\n"
   ]
  },
  {
   "cell_type": "markdown",
   "id": "6188c8fa",
   "metadata": {},
   "source": [
    "## 2. 연속형 확률 분포\n",
    "\n",
    "- 연속형(Continuous)  확률 변수가 취하는 값에 대한 확률을 나타내는 분포\n",
    "\n",
    "|분포|확률 변수|매개변수|확률 밀도 함수|E(X)|V(X)|\n",
    "|---|:---|:---|:-------|:---:|:---:|\n",
    "|지수(Exponential) 분포|다음 사건이 발생하는 시간|$\\lambda$:단위 또는 시간 공간에서 발생하는 평균 사건 수|$$\\lambda e^{-\\lambda x}$$|$$\\frac{1}{\\lambda}$$|$$\\frac{1}{\\lambda^2}$$|\n",
    "|감마(Gamma) 분포|다음 $\\alpha$개의 사건이 발생하는 평균 시간|$\\alpha$: 사건의 발생 횟수, $\\beta$: 단위 시간 또는 공간에서 발생하는 평균 사건수|$$\\frac{\\beta^\\alpha x^{\\alpha-1} e^{-\\beta x}}{\\Gamma(\\alpha)}$$|$$\\frac{\\alpha}{\\beta}$$|$$\\frac{\\alpha}{\\beta^2}$$|\n",
    "|정규(Normal) 분포|좌우 대칭의 종모양 분포|$\\mu$:평균, $\\sigma^2$: 분산|$$\\frac{1}{\\sigma\\sqrt{2 \\pi}}e^{-\\frac{(x-\\mu)^2}{2 \\sigma^2}}$$|$$\\mu$$|$$\\sigma^2$$|\n",
    "|t 분포|$$t=\\frac{\\bar{X} - \\mu}{s/\\sqrt{n}}$$<br/>$$\\bar{X}: \\text{표본 평균}$$<br/>$$\\mu: \\text{모평균}, s: \\text{표본분산}$$|$$\\nu: \\text{자유도}$$|$$\\frac{\\Gamma\\left(\\frac{\\nu + 1}{2}\\right)}{\\sqrt{\\pi \\nu} \\Gamma\\left(\\frac{\\nu}{2}\\right)} \\left(1 + \\frac{t^2}{\\nu}\\right)^{-\\frac{\\nu + 1}{2}}$$|0, $$\\nu > 1$$|$$\\frac{\\nu}{\\nu-2}, \\nu > 2$$|\n",
    "|카이 제곱(Chi-Square)|표준 정규 분포를 따르는 k개의 독립인 확률 변수의 제곱의 합 분포|k: 자유도|$$\\frac{1}{2^{k/2}\\Gamma(k/2)} x^{k/2 - 1} e^{-x/2}$$|k|2k|\n",
    "|F 분포|두 개의 카이 제곱 분포를 따르는 확률 변수의 비율|d1: 분자의 자유도 d2: 분모의 자유도|별도 기재|$$\\frac{d_{2}}{d_{2}-2}$$,<br/>$$d_2 > 2$$|$$\\frac{2\\,d_{2}^{2}\\,(d_{1}+d_{2}-2)}{d_{1}(d_{2}-2)^{2}(d_{2}-4)}$$, <br/> $$d2 > 4$$|\n",
    "\n",
    "F 분포의 확률 밀도 함수: $$\\frac{\\Gamma\\left(\\frac{d_1 + d_2}{2}\\right)}{\\Gamma\\left(\\frac{d_1}{2}\\right)\\Gamma\\left(\\frac{d_2}{2}\\right)} \\left(\\frac{d_1}{d_2}\\right)^{d_1/2} \\frac{x^{d_1/2 - 1}}{\\left(1 + \\frac{d_1}{d_2}x\\right)^{\\frac{d_1 + d_2}{2}}}$$\n",
    "\n",
    "\n",
    "#### 자유도의 직관적 이해\n",
    "\n",
    "- 주어진 확률 변수 중에서 임의로 변경이 가능한 값의 수입니다.\n",
    "\n",
    "<div style=\"border: 0px solid #ddd; padding: 12px; margin-top: 10px\">\n",
    "\n",
    "예] 표본 분산: $S = \\sum_{i=1}^n\\frac{(X_i - \\bar{X})^2}{n - 1}$, ← 표본 분산의 분모(자유도)가 1 차감이 됩니다.\n",
    "\n",
    "$\\bar{X}=\\frac{X_1 + X_2 + ... + X_n}{n}$ 표본 분산을 구할 때 표본평균을 사용합니다.\n",
    "\n",
    "표본 분산을 구하는 과정에서 표본 평균이 고정이 됩니다. $X_1, ... X_n$ 변수중에서 하나의 값은 값이 고정이 됩니다.\n",
    "\n",
    "n개의 확률 변수에서 한 개가 고정이 되므로 자유도가 n - 1이 됩니다.\n",
    "</div>"
   ]
  },
  {
   "cell_type": "markdown",
   "id": "f39fb86e",
   "metadata": {},
   "source": [
    "#### scipy.stats\n",
    "\n",
    "- 확률 관련 메소드(method) 정리\n",
    "\n",
    "|메소드명|메소드명 기능|설명|\n",
    "|---|---|---|\n",
    "|rvs|random variates|확률 변수를 생성|\n",
    "|pdf|probability density function|확률 밀도 함수|\n",
    "|pmf|probability mass function|확률 질량 함수|\n",
    "|cdf|cumulative density function|누적 밀도 함수|\n",
    "|ppf|percent point function, inverse of cdf|백분위 함수, cdf의 역함수: 0~1사이의 분위의 역함수|\n",
    "|sf|survival function, 1 - cdf|1 - cdf|"
   ]
  },
  {
   "cell_type": "code",
   "execution_count": 2,
   "id": "d59c43d9",
   "metadata": {},
   "outputs": [],
   "source": [
    "from scipy.stats import binom, poisson, chi2, f, t, norm, expon, gamma"
   ]
  },
  {
   "cell_type": "markdown",
   "id": "fe8b8e1b",
   "metadata": {},
   "source": [
    "**[Ex.1]**\n",
    "\n",
    "<div style=\"border: 1px solid #ddd; padding: 12px; margin-top: 10px\">\n",
    "\n",
    "n = 100, p = 0.3 인 이항분포에서 서로 독립인 표본 500개를 만들어 봅니다.\n",
    "\n",
    "</div>"
   ]
  },
  {
   "cell_type": "code",
   "execution_count": 3,
   "id": "908a0449",
   "metadata": {},
   "outputs": [
    {
     "name": "stdout",
     "output_type": "stream",
     "text": [
      "표본의 평균: 29.924 모집단(이론적) 평균: 30.0\n",
      "표본의 분산: 21.569362725450905 모집단(이론적) 분산: 21.0\n"
     ]
    },
    {
     "data": {
      "image/png": "[encoded data removed]",
      "text/plain": [
       "<Figure size 640x480 with 2 Axes>"
      ]
     },
     "metadata": {},
     "output_type": "display_data"
    }
   ],
   "source": [
    "n = 100 # 베르누이 시행의 수\n",
    "p = 0.3 # 결과가 1일 확률\n",
    "X = binom.rvs(n, p, size=500, random_state=123)\n",
    "print(\"표본의 평균:\", np.mean(X), \"모집단(이론적) 평균:\", n * p)\n",
    "print(\"표본의 분산:\", np.var(X, ddof=1), \"모집단(이론적) 분산:\", n * p * (1 - p))\n",
    "sns.histplot(X)\n",
    "sns.scatterplot(\n",
    "    x=np.arange(0, 101), \n",
    "    y=binom.pmf(np.arange(0, 101), n, p), \n",
    "    ax=plt.gca().twinx(), color='orange', label='Probability')\n",
    "plt.show()"
   ]
  },
  {
   "cell_type": "markdown",
   "id": "584e30d5",
   "metadata": {},
   "source": [
    "**[Ex.2]**\n",
    "\n",
    "<div style=\"border: 1px solid #ddd; padding: 12px; margin-top: 10px\">\n",
    "\n",
    "1. X는 n = 100, p = 0.3인 이항분포를 따릅니다. $P(X=20)$을 구합니다.\n",
    "\n",
    "    \n",
    "2. X는 n = 100, p = 0.3 인 이항분포를 따릅니다. $P(X <= 20)$를 구합니다.\n",
    "\n",
    "    \n",
    "3. X는 n = 100, p = 0.3 인 이항분포를 따릅니다. $P(X <= A)=0.1$를 구합니다. 이 때, A를 구합니다.\n",
    "\n",
    "</div>"
   ]
  },
  {
   "cell_type": "code",
   "execution_count": 4,
   "id": "4140da1d",
   "metadata": {},
   "outputs": [
    {
     "name": "stdout",
     "output_type": "stream",
     "text": [
      "1. 0.007575644925726051\n"
     ]
    }
   ],
   "source": [
    "print(\"1. {}\".format(binom.pmf(20, n=100, p=0.3)))"
   ]
  },
  {
   "cell_type": "code",
   "execution_count": 5,
   "id": "2cba72e7",
   "metadata": {},
   "outputs": [
    {
     "name": "stdout",
     "output_type": "stream",
     "text": [
      "2. 0.016462853241869434\n"
     ]
    }
   ],
   "source": [
    "print(\"2. {}\".format(binom.cdf(20, n=100, p=0.3)))"
   ]
  },
  {
   "cell_type": "code",
   "execution_count": 6,
   "id": "f1a22432",
   "metadata": {},
   "outputs": [
    {
     "name": "stdout",
     "output_type": "stream",
     "text": [
      "3. 24.0\n"
     ]
    }
   ],
   "source": [
    "print(\"3. {}\".format(binom.ppf(0.1, n=100, p=0.3)))"
   ]
  },
  {
   "cell_type": "markdown",
   "id": "04a72fb2",
   "metadata": {},
   "source": [
    "**[Ex.3]**\n",
    "\n",
    "<div style=\"border: 1px solid #ddd; padding: 12px; margin-top: 10px\">\n",
    "\n",
    "$\\lambda$가 10인 포아송 분포에서 서로 독립인 표본 500개를 만들어 봅니다.\n",
    "\n",
    "</div>"
   ]
  },
  {
   "cell_type": "code",
   "execution_count": 7,
   "id": "733a3968",
   "metadata": {},
   "outputs": [
    {
     "name": "stdout",
     "output_type": "stream",
     "text": [
      "표본의 평균: 10.014 모집단(이론적) 평균: 10\n",
      "표본의 분산: 9.152108216432866 모집단(이론적) 분산: 10\n"
     ]
    },
    {
     "data": {
      "image/png": "[encoded data removed]",
      "text/plain": [
       "<Figure size 640x480 with 2 Axes>"
      ]
     },
     "metadata": {},
     "output_type": "display_data"
    }
   ],
   "source": [
    "lamb = 10\n",
    "X = poisson.rvs(lamb, size=500, random_state=123)\n",
    "print(\"표본의 평균:\", np.mean(X), \"모집단(이론적) 평균:\", lamb)\n",
    "print(\"표본의 분산:\", np.var(X, ddof=1), \"모집단(이론적) 분산:\", lamb)\n",
    "sns.histplot(X)\n",
    "sns.scatterplot(x=np.arange(0, 31), y=poisson.pmf(np.arange(0, 31), 10), ax=plt.gca().twinx(), color='orange')\n",
    "plt.show()"
   ]
  },
  {
   "cell_type": "markdown",
   "id": "e200794a",
   "metadata": {},
   "source": [
    "**[Ex.4]**\n",
    "\n",
    "<div style=\"border: 1px solid #ddd; padding: 12px; margin-top: 10px\">\n",
    "\n",
    "손님이 10분 동안에 평균 5명 온다고 할 때, 새로운 손님이 4분 이내에 올 확률을 지수 분포를 이용하여 구해봅니다. \n",
    "    \n",
    "손님이 오는 사건은 서로 독립입니다.\n",
    "    \n",
    "</div>\n",
    "\n",
    "**[풀이]**\n",
    "\n",
    "<div style=\"border: 1px solid #ddd; padding: 12px; margin-top: 10px\">\n",
    "\n",
    "$\\lambda=5$, 4분의 확률변수 X = 4분 / 10분, \n",
    "\n",
    "$P(X \\le 0.4; \\lambda=5)$\n",
    "    \n",
    "</div>"
   ]
  },
  {
   "cell_type": "code",
   "execution_count": 8,
   "id": "0781a7cc",
   "metadata": {},
   "outputs": [
    {
     "data": {
      "text/plain": [
       "0.8646647167633873"
      ]
     },
     "execution_count": 8,
     "metadata": {},
     "output_type": "execute_result"
    }
   ],
   "source": [
    "# 풀이 과정의 내용을 계산해봅니다.\n",
    "\n",
    "expon.cdf(0.4, scale=1/5)"
   ]
  },
  {
   "cell_type": "markdown",
   "id": "ebf9aa06",
   "metadata": {},
   "source": [
    "## 3. 주요 분포의 특징"
   ]
  },
  {
   "cell_type": "markdown",
   "id": "080d7450",
   "metadata": {},
   "source": [
    "### 정규분포\n",
    "\n",
    "**표준정규분포**: 평균이 0, 분산이 1인 정규 분포\n",
    "\n",
    "**중심극한정리**: 표본평균의 분포는 모집단의 분포와 상관 없이 표본의 크기가 커질 수록 정규 분포에 가까워진다."
   ]
  },
  {
   "cell_type": "markdown",
   "id": "5a2ef890",
   "metadata": {},
   "source": [
    "**[Ex.5]**\n",
    "\n",
    "<div style=\"border: 1px solid #ddd; padding: 12px; margin-top: 10px\">\n",
    "\n",
    "$\\lambda$ 가 5인 포아송 분포에서 확률 변수를 n개씩 1000번 뽑아 각 표집의 표본평균을 구합니다.\n",
    "\n",
    "n을 5, 10, 30, 100 바꾸어 가며, Kolmogorov-Smironof로 정규성 검정을 하여 pvalue를 구합니다. \n",
    "\n",
    "(pvalue는 0과 1사이의 수이며 높을 수록 정규분포일 확률이 높음을 뜻합니다.)\n",
    "\n",
    "</div>"
   ]
  },
  {
   "cell_type": "code",
   "execution_count": 9,
   "id": "f7b066df",
   "metadata": {},
   "outputs": [
    {
     "data": {
      "image/png": "[encoded data removed]",
      "text/plain": [
       "<Figure size 1200x700 with 4 Axes>"
      ]
     },
     "metadata": {},
     "output_type": "display_data"
    }
   ],
   "source": [
    "np.random.seed(123)\n",
    "from scipy.stats import kstest\n",
    "fig, axes = plt.subplots(2, 2, figsize=(12, 7))\n",
    "for i, ax in zip([3, 10, 30, 100], axes.ravel()):\n",
    "    sam_mean = list()\n",
    "    for _ in range(1000):\n",
    "        X = poisson.rvs(mu=5, size=i) # mu ← lambda\n",
    "        sam_mean.append(X.mean())\n",
    "    sns.histplot(sam_mean, ax=ax)\n",
    "    _, pvalue = kstest(sam_mean, norm.cdf, args=[np.mean(sam_mean), np.std(sam_mean)])\n",
    "    ax.set_title('sample size: {}, pvalue:{:.3f}'.format(i, pvalue))\n",
    "plt.tight_layout()\n",
    "plt.show()"
   ]
  },
  {
   "cell_type": "markdown",
   "id": "bd17afd0",
   "metadata": {},
   "source": [
    "표본의 크기가 커질 수록 pvalue가 높아 집니다. 이는 곧 정규분포에 가까워짐을 의미합니다."
   ]
  },
  {
   "cell_type": "markdown",
   "id": "e762c3fe",
   "metadata": {},
   "source": [
    "## 카이제곱분포\n",
    "\n",
    "<div style=\"border: 1px solid #ddd; padding: 12px; margin-top: 10px\">\n",
    "\n",
    "$Z_1, ... Z_k$이 서로 독립이고 표준정규분포인 확률 함수 일 때,\n",
    "\n",
    "$Q=\\sum_{i=1}^{k}Z_i^2$\n",
    "\n",
    "$Q \\sim \\chi^2_k$\n",
    "\n",
    "#### 감마분포와의 관계\n",
    "    \n",
    "$\\chi^2_k = \\Gamma(\\frac{k}{2}, \\frac{1}{2})$\n",
    "    \n",
    "</div>\n",
    "\n",
    "### t 분포\n",
    "\n",
    "- t분포는 표준정규분포($Z$)와 $\\chi^2_{n-1}$과의 아래와 결합으로 구성된 분포입니다. (n은 표본수)\n",
    "\n",
    "\n",
    "- 태생적으로, t분포는 모집단이 정규분포를 따른다는 가정을 하고 있습니다.\n",
    "\n",
    "> $t=\\frac{\\bar{X} - \\mu}{\\frac{s}{\\sqrt{n}}}$, s는 표본표준편차. $s=\\frac{1}{n-1}\\sum_{i=1}^{n}\\left(x_i - \\bar{x} \\right)^2$\n",
    ">\n",
    "> $t_{n-1} = \\frac{Z}{\\sqrt{\\frac{\\chi^2_{n-1}}{n-1}}}$\n",
    ">\n",
    "> $t_{\\nu} = \\frac{Z}{\\sqrt{\\frac{\\chi^2_{\\nu}}{\\nu}}}, \\nu=n-1$\n",
    "\n",
    "\n",
    "**유도 과정**\n",
    "\n",
    "<div style=\"border: 1px solid #ddd; padding: 12px; margin-top: 10px\">\n",
    "\n",
    "$s^2=\\frac{1}{n-1}\\sum_{i=1}^{n}\\left(X_i - \\bar{X}\\right)^2$\n",
    "\n",
    "$(n-1)s^2=\\sum_{i=1}^{n}\\left(X_i -\\mu + \\mu - \\bar{X}\\right)^2$\n",
    "\n",
    "$(n-1)s^2=\\sum_{i=1}^{n}\\left(\\left(X_i -\\mu\\right)^2 + 2 \\left(X_i -\\mu \\right) \\left(\\mu - \\bar{X}\\right) + \\left(\\mu - \\bar{X}\\right)^2\\right)$\n",
    "\n",
    "> $\\sum_{i=1}^{n}2 \\left(X_i -\\mu \\right) \\left(\\mu - \\bar{X}\\right) = \\sum_{i=1}^{n}2 \\left(X_i \\mu - X_i \\bar{X} - \\mu^2 + \\mu\\bar{X}\\right)$\n",
    ">\n",
    "> $= 2n \\left(\\bar{X}\\mu - \\bar{X}^2 - \\mu^2 + \\mu\\bar{X}\\right)$\n",
    ">\n",
    "> $= -2n\\left(\\bar{X} - \\mu \\right)^2$\n",
    "\n",
    "$(n-1)s^2=\\sum_{i=1}^{n}\\left(X_i -\\mu\\right)^2 - 2n\\left(\\bar{X} - \\mu \\right)^2 + n \\left(\\mu - \\bar{X}\\right)^2$\n",
    "\n",
    "$     = \\sum_{i=1}^{n}\\left(X_i -\\mu\\right)^2- n\\left(\\bar{X} - \\mu \\right)^2$\n",
    "\n",
    "$(n-1)\\frac{s^2}{\\sigma^2}=\\sum_{i=1}^{n}\\left(\\frac{X_i -\\mu}{\\sigma}\\right)^2 - n\\left(\\frac{\\bar{X} - \\mu}{\\sigma}\\right)^2=\\sum_{i=1}^{n}\\left(\\frac{X_i -\\mu}{\\sigma}\\right)^2 - \\left(\\frac{\\bar{X} - \\mu}{\\frac{\\sigma}{\\sqrt{n}}}\\right)^2$\n",
    "\n",
    "> $\\sum_{i=1}^{n}\\left(\\frac{X_i -\\mu}{\\sigma}\\right)^2 \\sim \\chi^2_n, \\left(\\frac{\\bar{X} - \\mu}{\\frac{\\sigma}{\\sqrt{n}}}\\right)^2 \\sim \\chi^2_1$\n",
    ">\n",
    "> $chi^2_{n-1} = chi^2_n - chi^2_1$\n",
    "\n",
    "따라서, $(n-1)\\frac{s^2}{\\sigma^2} \\sim chi^2_{n-1}$\n",
    "\n",
    "\n",
    "$t=\\frac{\\bar{X} - \\mu}{\\frac{s}{\\sqrt{n}}}=\\frac{\\frac{\\bar{X} - \\mu}{\\sigma}}{\\frac{\\frac{s}{\\sigma}}{\\sqrt{n}}}$ \n",
    "\n",
    "$=\\frac{\\frac{\\bar{X} - \\mu}{\\frac{\\sigma}{\\sqrt{n}}}}{\\frac{s}{\\sigma}}$\n",
    "\n",
    "$=\\frac{Z}{\\sqrt{\\frac{(n-1)\\frac{s^2}{\\sigma^2}}{n-1}}} \\sim \\frac{Z}{\\sqrt{\\frac{\\chi^2_{n-1}}{n-1}}}$\n",
    "\n",
    "</div>\n",
    "\n",
    "### F 분포\n",
    "\n",
    "<div style=\"border: 1px solid #ddd; padding: 12px; margin-top: 10px\">\n",
    "\n",
    "$ F(d_1, d_2) = \\frac{S_1/d_1}{S_2/d_2} $ \n",
    "\n",
    "$S_1 \\sim \\chi^2_{d_1}$\n",
    "\n",
    "$S_2 \\sim \\chi^2_{d_2}$\n",
    "    \n",
    "</div>\n",
    "\n",
    "즉, F 분포는 분자는 자유도가 $d_1$인 카이제곱분포, 분모는 자유도가 $d_2$인 카이제곱분포인 형태를 하고 있습니다."
   ]
  },
  {
   "cell_type": "markdown",
   "id": "c4b77d99",
   "metadata": {},
   "source": [
    "## 4. 신뢰 구간\n",
    "\n",
    "- 신뢰 구간: 모집단의 모수에 대한 추정값이 존재할 것으로 예상되는 범위 나타냅니다.\n",
    "\n",
    "> 표본에서 얻은 정보를 이용하여 모집단의 모수에 대한 가능한 값의 범위를 제시합니다.\n",
    "\n",
    "- 신뢰 수준: 모집단의 모수가 신뢰 구간 내에 있을 확률입니다.\n",
    "\n",
    "> 신뢰 구간을 95% 정한다면, 모수가 신뢰 구간에 있을 확률이 95%라는 것입니다.\n",
    "\n",
    "- 신뢰 구간의 형태\n",
    "\n",
    "> 점 추정치(Point Estimate) ± 주변 오차 범위(Margin of Error)\n",
    "\n",
    "- 표본평균을 통한 신뢰 구간의 추청\n",
    "\n",
    "> $P(-c \\le 통계량 \\le c) = \\text{신뢰 수준}$\n",
    ">\n",
    "> $P(통계량 < -c) = \\frac{\\alpha}{2}$, $\\alpha(\\text{유의 수준}) = 1 - \\text{신뢰 수준}$\n",
    ">\n",
    "> $-c = F^{-1}(\\alpha/2)$, $F^{-1}$는 통계량의 분포의 누적확률함수의 역함수(Percentile Point Function)\n",
    ">\n",
    "> $c = -F^{-1}(\\alpha/2)$\n",
    "\n",
    "\n",
    "1. 모분산을 알고 있을 경우\n",
    "\n",
    "> 정규분포를 사용합니다.\n",
    ">\n",
    "> $Z(\\text{통계량}) = \\frac{\\bar{X} - \\mu}{\\sigma/\\sqrt{n}}$\n",
    ">\n",
    "> $c = -Z_{\\alpha/2}$, $-Z_{\\alpha/2}$는 정규분포에서의 $F^{-1}(\\alpha/2)$ 입니다.\n",
    ">\n",
    "> $-Z_{\\alpha/2} \\le \\frac{\\bar{X} - \\mu}{\\sigma/\\sqrt{n}} \\le Z_{\\alpha/2}$\n",
    ">\n",
    "> $\\bar{X} -Z_{\\alpha/2}\\frac{\\sigma}{\\sqrt{n}} \\le \\mu \\le \\bar{X} + Z_{\\alpha/2}\\frac{\\sigma}{\\sqrt{n}}$\n",
    "\n",
    "2. 모분산을 모를 경우 \n",
    "\n",
    "> t-분포를 사용합니다. \n",
    ">\n",
    "> $t(\\text{통계량}) = \\frac{\\bar{X} - \\mu}{S/\\sqrt{n}}$\n",
    ">\n",
    "> $c = -t_{\\alpha/2,\\nu=n-1}$, $-t_{\\alpha/2,\\nu=n-1}$는 t분포에서의 $F^{-1}(\\alpha/2)$ 입니다.\n",
    ">\n",
    "> $-t_{\\alpha/2,\\nu=n-1} \\le \\frac{\\bar{X} - \\mu}{S/\\sqrt{n}} \\le t_{\\alpha/2,\\nu=n-1}$\n",
    ">\n",
    "> $\\bar{X} -t_{\\alpha/2,\\nu=n-1}\\frac{S}{\\sqrt{n}} \\le \\mu \\le \\bar{X} + t_{\\alpha/2,\\nu=n-1}\\frac{S}{\\sqrt{n}}$"
   ]
  },
  {
   "cell_type": "markdown",
   "id": "1d141e1f",
   "metadata": {},
   "source": [
    "**[Ex.6]**\n",
    "\n",
    "<div style=\"border: 1px solid #ddd; padding: 12px; margin-top: 10px\">\n",
    "    \n",
    "모분산이 4인 모집단에서 100개의 표본을 뽑았습니다. 이 때, 표본 평균이 124 입니다. \n",
    "\n",
    "표본수 100개는, 표본평균의 분포가 정규분포를 따르기에 충분한 수라고 가정합니다.\n",
    "\n",
    "이 때, 모평균의 신뢰구간을 구하세요.(신뢰수준이 95%)\n",
    "    \n",
    "</div>\n",
    "\n",
    "**[풀이]**\n",
    "\n",
    "<div style=\"border: 1px solid #ddd; padding: 12px; margin-top: 10px\">\n",
    "\n",
    "$\\alpha = 1 - 0.95 = 0.05$\n",
    "    \n",
    "$124 - Z_{0.025}\\frac{2}{10} \\le \\mu \\le 124 + Z_{0.025}\\frac{2}{10}$\n",
    "    \n",
    "</div>"
   ]
  },
  {
   "cell_type": "code",
   "execution_count": 10,
   "id": "5e7e1413",
   "metadata": {},
   "outputs": [
    {
     "data": {
      "text/plain": [
       "(123.60800720309199, 124.39199279690801)"
      ]
     },
     "execution_count": 10,
     "metadata": {},
     "output_type": "execute_result"
    }
   ],
   "source": [
    "# 풀이 과정의 내용을 계산해봅니다.\n",
    "\n",
    "sigma2 = 4\n",
    "n_sample = 100\n",
    "x_bar_std = (sigma2 / n_sample) ** 0.5\n",
    "x_bar = 124\n",
    "c = -norm.ppf(0.025)\n",
    "x_bar - x_bar_std * c, x_bar + x_bar_std * c"
   ]
  },
  {
   "cell_type": "markdown",
   "id": "7058f083",
   "metadata": {},
   "source": [
    "**[Ex.7]**\n",
    "\n",
    "<div style=\"border: 1px solid #ddd; padding: 12px; margin-top: 10px\">\n",
    "\n",
    "모집단은 정규분포를 따르고 25개 표본을 뽑았습니다. 이 때, 표본 평균이 104이고, 표본 분산이 9입니다.\n",
    "    \n",
    "모평균의 신뢰구간을 구하세요.(신뢰수준이 95%)\n",
    "\n",
    "</div>\n",
    "\n",
    "**[풀이]**\n",
    "\n",
    "<div style=\"border: 1px solid #ddd; padding: 12px; margin-top: 10px\">\n",
    "\n",
    "$104 -t_{0.025,\\nu=24}\\frac{3}{5} \\le \\mu \\le 104 + t_{0.025,\\nu=24}\\frac{3}{5}$\n",
    "    \n",
    "</div>"
   ]
  },
  {
   "cell_type": "code",
   "execution_count": 11,
   "id": "577f80ab",
   "metadata": {},
   "outputs": [
    {
     "data": {
      "text/plain": [
       "(102.76166086302318, 105.23833913697682)"
      ]
     },
     "execution_count": 11,
     "metadata": {},
     "output_type": "execute_result"
    }
   ],
   "source": [
    "# 풀이 과정의 내용을 계산해봅니다.\n",
    "\n",
    "s2 = 9\n",
    "n_sample = 25\n",
    "s_div_sq = (s2 / n_sample) ** 0.5\n",
    "x_bar = 104\n",
    "c = -t.ppf(0.025, df=n_sample-1)\n",
    "x_bar - s_div_sq * c, x_bar + s_div_sq * c"
   ]
  },
  {
   "cell_type": "code",
   "execution_count": null,
   "id": "bdf939ca",
   "metadata": {},
   "outputs": [],
   "source": []
  }
 ],
 "metadata": {
  "kernelspec": {
   "display_name": "Python 3 (ipykernel)",
   "language": "python",
   "name": "python3"
  },
  "language_info": {
   "codemirror_mode": {
    "name": "ipython",
    "version": 3
   },
   "file_extension": ".py",
   "mimetype": "text/x-python",
   "name": "python",
   "nbconvert_exporter": "python",
   "pygments_lexer": "ipython3",
   "version": "3.7.4"
  }
 },
 "nbformat": 4,
 "nbformat_minor": 5
}
